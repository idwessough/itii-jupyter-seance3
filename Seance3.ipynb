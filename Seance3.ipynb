{
 "cells": [
  {
   "cell_type": "markdown",
   "metadata": {},
   "source": [
    "#Numpy et Array\n",
    "\n",
    "La bibliothèque NumPy (http://www.numpy.org/) permet d’effectuer des calculs numériques avec Python. Elle introduit une gestion facilitée des tableaux de nombres.\n",
    "\n",
    "Il faut au départ importer le package numpy avec l’instruction suivante :"
   ]
  },
  {
   "cell_type": "code",
   "execution_count": 12,
   "metadata": {},
   "outputs": [],
   "source": [
    "import numpy as np"
   ]
  },
  {
   "cell_type": "markdown",
   "metadata": {},
   "source": [
    "Les tableaux - numpy.array()\n",
    "\n",
    "Les tableaux  peuvent être créés avec numpy.array(). On utilise des crochets pour délimiter les listes d’éléments dans les tableaux.\n",
    "\n"
   ]
  },
  {
   "cell_type": "code",
   "execution_count": 13,
   "metadata": {},
   "outputs": [],
   "source": [
    "a = np.array([[1, 2, 3], [4, 5, 6]])"
   ]
  },
  {
   "cell_type": "markdown",
   "metadata": {},
   "source": [
    "Accès aux éléments d’un tableau :"
   ]
  },
  {
   "cell_type": "code",
   "execution_count": 14,
   "metadata": {},
   "outputs": [
    {
     "name": "stdout",
     "output_type": "stream",
     "text": [
      "2\n"
     ]
    }
   ],
   "source": [
    "print(a[0,1])"
   ]
  },
  {
   "cell_type": "markdown",
   "metadata": {},
   "source": [
    "La fonction numpy.arange() permet de créer des listes en fonction de certain parametres:"
   ]
  },
  {
   "cell_type": "code",
   "execution_count": 15,
   "metadata": {},
   "outputs": [],
   "source": [
    "m = np.arange(3, 15, 2)"
   ]
  },
  {
   "cell_type": "markdown",
   "metadata": {},
   "source": [
    "La fonction numpy.linspace() permet d’obtenir un tableau 1D allant d’une valeur de départ à une valeur de fin avec un nombre donné d’éléments."
   ]
  },
  {
   "cell_type": "code",
   "execution_count": 16,
   "metadata": {},
   "outputs": [
    {
     "data": {
      "text/plain": [
       "array([3.        , 3.66666667, 4.33333333, 5.        , 5.66666667,\n",
       "       6.33333333, 7.        , 7.66666667, 8.33333333, 9.        ])"
      ]
     },
     "execution_count": 16,
     "metadata": {},
     "output_type": "execute_result"
    }
   ],
   "source": [
    "np.linspace(3, 9, 10)"
   ]
  },
  {
   "cell_type": "markdown",
   "metadata": {},
   "source": [
    "Pour toutes les fonctions que propose numpy, vous pouvez consulter la documentation : https://numpy.org/doc/\n",
    "\n",
    "Le typage faible et dynamique et les limites du language interperté fait de python une solution lente pour traiter les tableaux de grande taille. \n",
    "Dans beaucoup de cas, Numpy fournit une interface pour les opérations standard qui n'implique que des données du même type. Par exemple, on peut calculer les inverses de tous les éléments d'un tableau Numpy :"
   ]
  },
  {
   "cell_type": "code",
   "execution_count": 17,
   "metadata": {},
   "outputs": [],
   "source": [
    "tableau_large = np.random.randint(1, 100, size=1000000)\n",
    "tableau_large = 1.0 / tableau_large"
   ]
  },
  {
   "cell_type": "markdown",
   "metadata": {},
   "source": [
    "Ex 1 :  théorème des valeurs intermédiaires\n",
    "\n",
    "1. Rappel\n",
    "Soit f  une fonction continue définie sur un intervalle I et, a et b deux réels de I.Pour tout réel k compris entre f(a) et f(b), il existe au moins un réel c compris entre a et b tel que f(c)=k.\n",
    "\n",
    "Soit f une fonction continue et strictement monotone sur un intervalle [a;b].Pour tout nombre k compris entre f(a) et f(b), l'équation f(x)=kadmet une unique solution dans l'intervalle [a;b].\n",
    "\n",
    "2. Application\n",
    "Nous considérons dans cet exercice la fonction:fdéfinie sur l'intervalle [0;1], par: f(x)=x^3+2x−2\n",
    "Par la conséquence du théorème des valeurs intermédiaires :  l'équation f(x)=0 admet une unique solution x_0 dans [0;1]\n",
    "* vérifier continuité et stricte monotonie de f sur [0;1]\n",
    "* Pour savoir si x0 se trouve dans [0;0,5]ou dans [0,5;1], il faut vérifier si f(0) et f(0,5)  sont de mêmes signes\n",
    "* proposer un algorithme de recherche pour évaluer x_0 en fonction de $N$, donner par l'utilisateur\n"
   ]
  },
  {
   "cell_type": "code",
   "execution_count": 45,
   "metadata": {},
   "outputs": [],
   "source": [
    "import numpy as np\n",
    "import matplotlib as plt"
   ]
  },
  {
   "cell_type": "code",
   "execution_count": null,
   "metadata": {},
   "outputs": [],
   "source": [
    "def f(x):\n",
    "    return ((x**3) + (2*x) - 2)"
   ]
  },
  {
   "cell_type": "code",
   "execution_count": 68,
   "metadata": {},
   "outputs": [
    {
     "name": "stdout",
     "output_type": "stream",
     "text": [
      "-1.592\n"
     ]
    }
   ],
   "source": [
    "print(f[2])"
   ]
  },
  {
   "cell_type": "code",
   "execution_count": 63,
   "metadata": {
    "scrolled": false
   },
   "outputs": [
    {
     "name": "stdout",
     "output_type": "stream",
     "text": [
      "[-2.    -1.799 -1.592 -1.373 -1.136 -0.875 -0.584 -0.257  0.112  0.529\n",
      "  1.   ]\n",
      "-1.799\n",
      "-2.0\n",
      "-2.0\n",
      "-1.799\n",
      "3.598\n",
      "-1.592\n",
      "2.864008\n",
      "-1.3729999999999998\n",
      "2.1858159999999995\n",
      "-1.136\n",
      "1.5597279999999996\n",
      "-0.875\n",
      "0.9939999999999999\n",
      "-0.5839999999999996\n",
      "0.5109999999999997\n",
      "-0.2569999999999997\n",
      "0.15008799999999972\n",
      "0.1120000000000001\n",
      "-0.02878399999999999\n",
      "0.5289999999999999\n",
      "0.059248000000000044\n",
      "1.0\n",
      "0.5289999999999999\n"
     ]
    },
    {
     "ename": "AttributeError",
     "evalue": "module 'matplotlib' has no attribute 'plot'",
     "output_type": "error",
     "traceback": [
      "\u001b[1;31m---------------------------------------------------------------------------\u001b[0m",
      "\u001b[1;31mAttributeError\u001b[0m                            Traceback (most recent call last)",
      "\u001b[1;32m<ipython-input-63-b8f74071cf41>\u001b[0m in \u001b[0;36m<module>\u001b[1;34m\u001b[0m\n\u001b[0;32m     16\u001b[0m \u001b[1;33m\u001b[0m\u001b[0m\n\u001b[0;32m     17\u001b[0m \u001b[1;33m\u001b[0m\u001b[0m\n\u001b[1;32m---> 18\u001b[1;33m \u001b[0mplt\u001b[0m\u001b[1;33m.\u001b[0m\u001b[0mplot\u001b[0m\u001b[1;33m(\u001b[0m\u001b[0mx\u001b[0m\u001b[1;33m,\u001b[0m \u001b[0my\u001b[0m\u001b[1;33m,\u001b[0m \u001b[1;34m'go--'\u001b[0m\u001b[1;33m,\u001b[0m \u001b[0mlinewidth\u001b[0m\u001b[1;33m=\u001b[0m\u001b[1;36m2\u001b[0m\u001b[1;33m,\u001b[0m \u001b[0mmarkersize\u001b[0m\u001b[1;33m=\u001b[0m\u001b[1;36m12\u001b[0m\u001b[1;33m)\u001b[0m\u001b[1;33m\u001b[0m\u001b[1;33m\u001b[0m\u001b[0m\n\u001b[0m\u001b[0;32m     19\u001b[0m \u001b[0mplt\u001b[0m\u001b[1;33m.\u001b[0m\u001b[0mshow\u001b[0m\u001b[1;33m(\u001b[0m\u001b[1;33m)\u001b[0m\u001b[1;33m\u001b[0m\u001b[1;33m\u001b[0m\u001b[0m\n\u001b[0;32m     20\u001b[0m \u001b[1;33m\u001b[0m\u001b[0m\n",
      "\u001b[1;31mAttributeError\u001b[0m: module 'matplotlib' has no attribute 'plot'"
     ]
    }
   ],
   "source": [
    "#x = np.linspace(0, 1, 11)         #fonction defini sur intervalle [0;1] (precision de 0.1)\n",
    "#print(x)\n",
    "#f = ((x**3) + (2*x) - 2)\n",
    "print(f)\n",
    "\n",
    "print(f[1])\n",
    "\n",
    "for i in range(0,11) :\n",
    "    #print(x[i])\n",
    "    #f(x[i])\n",
    "    print(f[i])\n",
    "    multi = f[i]*f[i-1]\n",
    "    print(multi)\n",
    "\n",
    "\n",
    "\n",
    "\n",
    "plt.plot(x, y, 'go--', linewidth=2, markersize=12)\n",
    "plt.show()\n",
    "\n"
   ]
  },
  {
   "cell_type": "markdown",
   "metadata": {},
   "source": [
    "Ex 2: Carrés magiques\n",
    "Uncarré magiqueest un tableau carré de taillen×nqui contient tous les entiers de1 àn2et qui vérifieque : la somme de chaque ligne, la somme de chaque colonne, la somme de la diagonale principale et lasomme de l’anti-diagonale ont toutes la même valeur.\n",
    "\n",
    "Pour un carré magique de taillen×n, la valeur de la somme est : S_n=n(n^2+1)/2\n",
    "\n",
    "1. Définir un tableau pour chacun des exemples3×3 et 4×4\n",
    "2. Définir une fonctionest_carre_magique(carre)qui teste si un tableaudonné est (ou pas) un carré magique\n",
    "3. Génèrer de façon aléatoire des carrés contenant les entiers de1 àn2grâce à une fonctioncarre_aleatoire(n). \n",
    "4. Définir la probabilité d'obtenir un carrée magique\n",
    "5. Définir une fonctionaddition_carre(carre,k)qui ajoute un entierkà tous les élé-ments du carré.\n"
   ]
  },
  {
   "cell_type": "code",
   "execution_count": 71,
   "metadata": {},
   "outputs": [
    {
     "data": {
      "text/plain": [
       "array([[2, 7, 6],\n",
       "       [9, 5, 1],\n",
       "       [4, 3, 8]])"
      ]
     },
     "execution_count": 71,
     "metadata": {},
     "output_type": "execute_result"
    }
   ],
   "source": [
    "carre_3 = np.array([2,7,6,9,5,1,4,3,8]).reshape(3,3)\n",
    "carre_3"
   ]
  },
  {
   "cell_type": "code",
   "execution_count": null,
   "metadata": {},
   "outputs": [],
   "source": []
  },
  {
   "cell_type": "code",
   "execution_count": null,
   "metadata": {},
   "outputs": [],
   "source": []
  },
  {
   "cell_type": "code",
   "execution_count": null,
   "metadata": {},
   "outputs": [],
   "source": []
  }
 ],
 "metadata": {
  "kernelspec": {
   "display_name": "Python 3",
   "language": "python",
   "name": "python3"
  },
  "language_info": {
   "codemirror_mode": {
    "name": "ipython",
    "version": 3
   },
   "file_extension": ".py",
   "mimetype": "text/x-python",
   "name": "python",
   "nbconvert_exporter": "python",
   "pygments_lexer": "ipython3",
   "version": "3.7.6"
  }
 },
 "nbformat": 4,
 "nbformat_minor": 4
}
